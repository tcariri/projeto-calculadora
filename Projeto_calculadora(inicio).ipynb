{
  "nbformat": 4,
  "nbformat_minor": 0,
  "metadata": {
    "colab": {
      "provenance": []
    },
    "kernelspec": {
      "name": "python3",
      "display_name": "Python 3"
    },
    "language_info": {
      "name": "python"
    }
  },
  "cells": [
    {
      "cell_type": "markdown",
      "source": [
        "Passo a passo:\n",
        "\n",
        "\n",
        "*   Utilize o comando 'input' para receber ao menos 2 números de entrada do usuário;\n",
        "\n",
        "*  Converta os valores recebidos pelo usuário para número inteiro (int) ou ponto flutuante (float);\n",
        "*  Adicione um laço de repetição ou uma condicional. Por exemplo: você pode permitir que o usuário escolha qual operação realizar ou criar um loop que permita ao usuário realizar várias operações consecutivas;\n",
        "\n",
        "\n",
        "*   Utilize o comando 'print' para exibir o resultado da operação matemática.\n",
        "\n"
      ],
      "metadata": {
        "id": "SsuE02WKhzMV"
      }
    },
    {
      "cell_type": "code",
      "source": [
        "#inicio\n",
        "\n",
        "\n",
        "while True:\n",
        " num1=float(input('Digite o primeiro número:'))\n",
        " num2=float(input('Digite o segundo número:'))\n",
        "\n",
        " somar=(num1+num2)\n",
        " subtrair=(num1-num2)\n",
        " multiplicar=(num1*num2)\n",
        " dividir=(num1/num2)\n",
        " print('escolha uma operação')\n",
        " print('1 = somar')\n",
        " print('2 = subtrair')\n",
        " print('3 = multiplicar')\n",
        " print('4 = dividir')\n",
        " print('5 = sair')\n",
        "\n",
        " operador=input('Digite o número da operação que deseja realizar:')\n",
        "\n",
        " if operador=='5':\n",
        "   break\n",
        " elif operador == '1':\n",
        "  resultado = (somar)\n",
        "  print('resultado da soma é:',resultado)\n",
        " elif operador =='2':\n",
        "  resultado =(subtrair)\n",
        "  print('resultado da subtração é:',resultado)\n",
        " elif operador == '3':\n",
        "  resultado = (multiplicar)\n",
        "  print('resultado da multiplicação é:',resultado)\n",
        " elif operador == '4':\n",
        "  resultado =(dividir)\n",
        "  print('resultado da divisão é:',resultado)\n",
        " else:\n",
        "  print('não foi possivel realizar a operação')\n",
        "\n",
        "\n",
        "\n",
        "#fim"
      ],
      "metadata": {
        "colab": {
          "base_uri": "https://localhost:8080/"
        },
        "id": "J8USWdbridbS",
        "outputId": "4c44164b-4c06-4068-b6ad-e5d1186c4e31"
      },
      "execution_count": 23,
      "outputs": [
        {
          "name": "stdout",
          "output_type": "stream",
          "text": [
            "Digite o primeiro número:7\n",
            "Digite o segundo número:9\n",
            "escolha uma operação\n",
            "1 = somar\n",
            "2 = subtrair\n",
            "3 = multiplicar\n",
            "4 = dividir\n",
            "5 = sair\n",
            "Digite o número da operação que deseja realizar:3\n",
            "resultado: 63.0\n",
            "Digite o primeiro número:5\n",
            "Digite o segundo número:6\n",
            "escolha uma operação\n",
            "1 = somar\n",
            "2 = subtrair\n",
            "3 = multiplicar\n",
            "4 = dividir\n",
            "5 = sair\n",
            "Digite o número da operação que deseja realizar:5\n"
          ]
        }
      ]
    }
  ]
}